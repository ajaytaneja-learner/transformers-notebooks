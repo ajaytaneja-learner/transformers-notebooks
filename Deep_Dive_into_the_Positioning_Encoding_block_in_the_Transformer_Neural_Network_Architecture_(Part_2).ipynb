{
  "nbformat": 4,
  "nbformat_minor": 0,
  "metadata": {
    "colab": {
      "provenance": []
    },
    "kernelspec": {
      "name": "python3",
      "display_name": "Python 3"
    },
    "language_info": {
      "name": "python"
    }
  },
  "cells": [
    {
      "cell_type": "code",
      "source": [
        "import torch\n",
        "import torch.nn as nn\n",
        "\n",
        "class PositionalEncoding(nn.Module):\n",
        "    \"\"\"\n",
        "    This class is designed for generating positions encodings.\n",
        "    The PositionalEncoding class will inherit the nn.Module class.\n",
        "\n",
        "    \"\"\"\n",
        "\n",
        "    def __init__(self, d_model, max_sequence_length):\n",
        "        \"\"\"\n",
        "        This is the constructor method for the positional encoding\n",
        "        class. It initializes the object when an instance of the\n",
        "        class is created.\n",
        "\n",
        "        Parameters\n",
        "        ----------\n",
        "        d_model : intger\n",
        "            dimension of the positional encoding.\n",
        "        max_sequence_length : integer\n",
        "            maximum sequence length\n",
        "\n",
        "        \"\"\"\n",
        "\n",
        "        super().__init__()\n",
        "        self.max_sequence_length = max_sequence_length\n",
        "        self.d_model = d_model\n",
        "\n",
        "    def forward(self):\n",
        "\n",
        "        \"\"\"\n",
        "        This method calculates and returns the positional encodings\n",
        "        as per the mathematical formulation.\n",
        "\n",
        "\n",
        "        Returns\n",
        "        -------\n",
        "        PE: tensor\n",
        "            tensor of dimensions d_model x max_sequence_length\n",
        "\n",
        "        \"\"\"\n",
        "        even_i = torch.arange(0, self.d_model, 2).float()\n",
        "        denominator = torch.pow(10000, even_i/self.d_model)\n",
        "        position = torch.arange(self.max_sequence_length).reshape(self.max_sequence_length, 1)\n",
        "        even_position_encoding = torch.sin(position / denominator)\n",
        "        odd_position_encoding = torch.cos(position / denominator)\n",
        "        stacked = torch.stack([even_position_encoding, odd_position_encoding], dim=2)\n",
        "        PE = torch.flatten(stacked, start_dim=1, end_dim=2)\n",
        "        return PE"
      ],
      "metadata": {
        "id": "RgxCfJWqbtYe"
      },
      "execution_count": 2,
      "outputs": []
    },
    {
      "cell_type": "code",
      "source": [
        "positional_encoding = PositionalEncoding(d_model=6, max_sequence_length=10)\n",
        "positional_encoding.forward()"
      ],
      "metadata": {
        "colab": {
          "base_uri": "https://localhost:8080/"
        },
        "id": "Jonl0mLXbysl",
        "outputId": "f994bac2-dd11-49f4-c126-120bfa8802ee"
      },
      "execution_count": 3,
      "outputs": [
        {
          "output_type": "execute_result",
          "data": {
            "text/plain": [
              "tensor([[ 0.0000,  1.0000,  0.0000,  1.0000,  0.0000,  1.0000],\n",
              "        [ 0.8415,  0.5403,  0.0464,  0.9989,  0.0022,  1.0000],\n",
              "        [ 0.9093, -0.4161,  0.0927,  0.9957,  0.0043,  1.0000],\n",
              "        [ 0.1411, -0.9900,  0.1388,  0.9903,  0.0065,  1.0000],\n",
              "        [-0.7568, -0.6536,  0.1846,  0.9828,  0.0086,  1.0000],\n",
              "        [-0.9589,  0.2837,  0.2300,  0.9732,  0.0108,  0.9999],\n",
              "        [-0.2794,  0.9602,  0.2749,  0.9615,  0.0129,  0.9999],\n",
              "        [ 0.6570,  0.7539,  0.3192,  0.9477,  0.0151,  0.9999],\n",
              "        [ 0.9894, -0.1455,  0.3629,  0.9318,  0.0172,  0.9999],\n",
              "        [ 0.4121, -0.9111,  0.4057,  0.9140,  0.0194,  0.9998]])"
            ]
          },
          "metadata": {},
          "execution_count": 3
        }
      ]
    }
  ]
}