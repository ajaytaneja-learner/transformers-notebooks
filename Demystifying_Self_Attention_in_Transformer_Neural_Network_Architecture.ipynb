{
  "nbformat": 4,
  "nbformat_minor": 0,
  "metadata": {
    "colab": {
      "provenance": []
    },
    "kernelspec": {
      "name": "python3",
      "display_name": "Python 3"
    },
    "language_info": {
      "name": "python"
    }
  },
  "cells": [
    {
      "cell_type": "markdown",
      "source": [
        "**Attention in Transformers**\n",
        "\n",
        "1) The purpose of this notebook is to illustrate the mathematical operations that are part of the Attention mechanism, which is the core component of Transformers.\n",
        "\n",
        "2) As mentioned in my previous article, every word (embedding) inputted into the Transformer is associated with three vectors: the Query (Q) vector, Key (K) vector, and Value (V) vector.\n",
        "\n",
        "3) The length of the Q, K, and V vectors is the same as the length of the input embedding vectors. In the paper \"Attention Is All You Need,\" the embedding length was 512.\n",
        "\n",
        "4) In this code, we will randomly initialize the Q, K, and V vectors.\n",
        "\n",
        "5) In the code below, the length (L) of the input sequence is 4, assuming that you are translating the sentence \"I Love Deep Learning.\"\n",
        "\n",
        "6) For illustrative purposes, we will set the size of Q, K, and V as 8 instead of 512.\n",
        "\n",
        "7) We will randomly initialize Q, K, and V using NumPy's randn function [https://numpy.org/doc/stable/reference/random/generated/numpy.random.randn.html].\n",
        "\n",
        "8) In reality, the Q, K, and V vectors are obtained by passing the positional embedding through three separate linear layers, each having its own set of weights.\n",
        "\n",
        "9) The positional embedding establishes the order of words in a sentence. I have discussed the mathematics behind it in my blog post on the \"Evolution of Language Models.\""
      ],
      "metadata": {
        "id": "Lm6Q3w785xST"
      }
    },
    {
      "cell_type": "code",
      "source": [
        "import numpy as np\n",
        "import math"
      ],
      "metadata": {
        "id": "O-xlxmhb85L0"
      },
      "execution_count": null,
      "outputs": []
    },
    {
      "cell_type": "code",
      "source": [
        "# L, d_q, d_k, d_v\n",
        "# Length = Length of the sentence\n",
        "# d_q, d_k, d_v = size of the query, key and value vectors\n",
        "\n",
        "L, d_q, d_k, d_v = 4, 8, 8, 8\n",
        "q = np.random.randn(L, d_q)\n",
        "k = np.random.randn(L, d_k)\n",
        "v = np.random.randn(L, d_v)\n",
        "\n",
        "#Since every word of the sentence will be associated with a query, key and\n",
        "#value vector we take the dimension of each of these as 4, 8\n",
        "# 4 is the length of the sentence ('I Love Deep Learning')\n",
        "\n",
        "#Printing the Q, K, V vectors\n",
        "\n",
        "print(\"Q = \\n\", q)\n",
        "print(\"K = \\n\", k)\n",
        "print(\"V = \\n\", v)\n"
      ],
      "metadata": {
        "id": "1T0OOEqK9CD0",
        "colab": {
          "base_uri": "https://localhost:8080/"
        },
        "outputId": "59891eba-e1f2-4d94-a6fd-0f7690818a4a"
      },
      "execution_count": null,
      "outputs": [
        {
          "output_type": "stream",
          "name": "stdout",
          "text": [
            "Q = \n",
            " [[ 0.39211505 -0.05089482 -0.11461102 -0.49038804  0.12826983 -0.74798088\n",
            "  -1.37127712  0.72757952]\n",
            " [ 1.0091794  -0.79030116  0.10490977 -0.76836868 -0.55016784  0.48483291\n",
            "   0.10617249 -0.51838965]\n",
            " [-0.48753939  0.27091381  0.31246007 -2.29066701  1.4166964  -0.85795957\n",
            "   1.00091863 -0.55074052]\n",
            " [-0.2489861   0.38175186  0.77844301  0.09875914 -0.544363   -1.85202786\n",
            "   1.4233528   1.56995179]]\n",
            "K = \n",
            " [[-0.35611624  0.77203891 -1.10407718 -0.39792957 -0.82573039  1.22486569\n",
            "   0.4753056   1.99880685]\n",
            " [-0.05337412  0.16382048 -0.8036292   1.09777291 -2.04950836  0.09107871\n",
            "   0.20136715 -1.32654442]\n",
            " [ 0.39121498 -0.01618066  0.51708653 -0.2285983  -0.47234186 -0.16004781\n",
            "  -0.44743256 -1.33053838]\n",
            " [ 0.86649718 -0.26237007 -0.25662135  0.03958015 -1.38582757 -0.6434577\n",
            "   0.34352733 -1.73621848]]\n",
            "V = \n",
            " [[ 1.8067476   0.40849889 -0.36159812 -0.48823767  0.05242713 -0.68766242\n",
            "   0.96605241  1.02990518]\n",
            " [-0.42621687 -0.01719742  0.05865216  0.30162124 -0.64330275  0.8443855\n",
            "  -0.82497714 -1.09260403]\n",
            " [-0.09495271 -0.12169032 -0.34489352  0.77699494 -0.89112148 -0.23319965\n",
            "   1.43012905 -1.6627637 ]\n",
            " [-0.49596011  0.18478819  0.22653217  0.93866322 -0.91845953  1.39771749\n",
            "  -0.34535912  1.36364655]]\n"
          ]
        }
      ]
    },
    {
      "cell_type": "markdown",
      "source": [
        "10) The concept of Query, Key and Value can be best understood through the search example - here Query corresponds to your search (what you're looking for), the Key(s) correspond to the search results (what is there to offer) and the value corresponds to the video/search you select.\n",
        "\n",
        "11) Your selection is going to depend upon the magnitude of similarity between the Query and the Key.\n",
        "\n",
        "12) And that is essentially the next math that is caried out - the dot product of Q and K. This is shown below"
      ],
      "metadata": {
        "id": "orbO-mwi_Tw7"
      }
    },
    {
      "cell_type": "code",
      "source": [
        "np.matmul(q, k.T)"
      ],
      "metadata": {
        "colab": {
          "base_uri": "https://localhost:8080/"
        },
        "id": "EUlFaKvqF27M",
        "outputId": "ec376e16-807b-443a-ad2c-0156d929c77e"
      },
      "execution_count": null,
      "outputs": [
        {
          "output_type": "execute_result",
          "data": {
            "text/plain": [
              "array([[-0.07682919, -2.04780831, -0.08833011, -1.06765212],\n",
              "       [-0.71715118,  0.76964363,  1.46199205,  2.41144738],\n",
              "       [-1.89645541, -4.74487008,  0.24318256, -0.77556749],\n",
              "       [ 1.48020455, -1.2903343 , -1.89583493, -0.80248609]])"
            ]
          },
          "metadata": {},
          "execution_count": 4
        }
      ]
    },
    {
      "cell_type": "markdown",
      "source": [
        "13) The matrix obtained above coresponds to the matrix of Attention scores which was discussed in the section 2 of the current blog wherein I expressed the self attention scores for the sentence: \"I Love Deep Learning\"\n",
        "![attention_scores.gif](data:image/gif;base64,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)\n"
      ],
      "metadata": {
        "id": "KIuLz4wuIMw9"
      }
    },
    {
      "cell_type": "markdown",
      "source": [
        "14) We are now going to scale q*k^T product by square toot of d_k. This is to minimize the variance between q and k and thus stabilize the values."
      ],
      "metadata": {
        "id": "kEqgMvpaJb_Q"
      }
    },
    {
      "cell_type": "code",
      "source": [
        "scaled_q_k_transpose = np.matmul(q, k.T) / math.sqrt(d_q)\n",
        "print(\"scaled q_k_transpose = \\n\", scaled_q_k_transpose)"
      ],
      "metadata": {
        "colab": {
          "base_uri": "https://localhost:8080/"
        },
        "id": "78lMb0AyKhwA",
        "outputId": "272d10bc-be58-44ab-b55e-22515d30303b"
      },
      "execution_count": null,
      "outputs": [
        {
          "output_type": "stream",
          "name": "stdout",
          "text": [
            "scaled q_k_transpose = \n",
            " [[-0.02716322 -0.72400957 -0.03122941 -0.37747203]\n",
            " [-0.25355123  0.27211012  0.51689225  0.8525754 ]\n",
            " [-0.67049824 -1.6775649   0.08597802 -0.27420452]\n",
            " [ 0.52333134 -0.45620207 -0.67027887 -0.28372168]]\n"
          ]
        }
      ]
    },
    {
      "cell_type": "markdown",
      "source": [
        "**Masking**\n",
        "\n",
        "Whilst carrying out Self Attention in Transformers during the Encoding phase, it is not necessarily required to carry out Masking because we are anyway processing every word embedding simultaneously.\n",
        "\n",
        "During the Decoding phase, for a task like machine translation, we know during training the next word. But since we are generating one word at a time, it is absolutely necessary to carry out masking as otherwise we will tend to overfit, thus, learning the training data precisely but not the unseen data. Hence the image below of the Transformer architecture terms the Multi Head Attention during the Decoding phase as \"Masked Multi Head Attention\" but that's not so in the Encoding phase.\n",
        "\n",
        "We do not want the words to generate context from words in the future.\n",
        "\n",
        "To implement masking we do the following\n",
        "\n",
        "1) First get a lower triangular matrix of ones with diagonal elements and elements below the diagonal as 1\n",
        "\n",
        "2) This clearly illustrates words will derive context as the are generated\n",
        "\n",
        "3) Not masking will also create confusion because the vocabulary of 2 languages will be completely different"
      ],
      "metadata": {
        "id": "lGrSYfZnLTVP"
      }
    },
    {
      "cell_type": "code",
      "source": [
        "mask = np.tril(np.ones((L, L)))\n",
        "print(\"mask = \", mask)"
      ],
      "metadata": {
        "colab": {
          "base_uri": "https://localhost:8080/"
        },
        "id": "VomctGMEKWge",
        "outputId": "430ab7ea-e031-4ddd-fdff-3f4895a4fcbf"
      },
      "execution_count": null,
      "outputs": [
        {
          "output_type": "stream",
          "name": "stdout",
          "text": [
            "mask =  [[1. 0. 0. 0.]\n",
            " [1. 1. 0. 0.]\n",
            " [1. 1. 1. 0.]\n",
            " [1. 1. 1. 1.]]\n"
          ]
        }
      ]
    },
    {
      "cell_type": "code",
      "source": [
        "mask[mask==0] = -np.infty\n",
        "mask[mask==1] = 0"
      ],
      "metadata": {
        "id": "ccFMh-U9Ll3p"
      },
      "execution_count": null,
      "outputs": []
    },
    {
      "cell_type": "code",
      "source": [
        "scaled_q_k_transpose = scaled_q_k_transpose + mask\n",
        "print(\"scaled_q_k_transpose = \\n\", scaled_q_k_transpose)"
      ],
      "metadata": {
        "colab": {
          "base_uri": "https://localhost:8080/"
        },
        "id": "ufoKqLZvL6mZ",
        "outputId": "8520ad06-50f0-45d4-cfdb-0f5b2c9db2ff"
      },
      "execution_count": null,
      "outputs": [
        {
          "output_type": "stream",
          "name": "stdout",
          "text": [
            "scaled_q_k_transpose = \n",
            " [[-0.02716322        -inf        -inf        -inf]\n",
            " [-0.25355123  0.27211012        -inf        -inf]\n",
            " [-0.67049824 -1.6775649   0.08597802        -inf]\n",
            " [ 0.52333134 -0.45620207 -0.67027887 -0.28372168]]\n"
          ]
        }
      ]
    },
    {
      "cell_type": "markdown",
      "source": [
        "We carry out softmax to convert the numbers / attention scores into softmax\n",
        "![image.png](data:image/png;base64,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)"
      ],
      "metadata": {
        "id": "Jsf1GUxtRHQY"
      }
    },
    {
      "cell_type": "code",
      "source": [
        "def softmax(x):\n",
        "  return (np.exp(x).T / np.sum(np.exp(x), axis = 1)).T"
      ],
      "metadata": {
        "id": "A8r55Kg_RirL"
      },
      "execution_count": null,
      "outputs": []
    },
    {
      "cell_type": "code",
      "source": [
        "scaled_q_k_transpose_softmax = softmax(scaled_q_k_transpose)\n",
        "print(\"scaled_q_k_transpose_softmax = \", scaled_q_k_transpose_softmax)"
      ],
      "metadata": {
        "colab": {
          "base_uri": "https://localhost:8080/"
        },
        "id": "7air91w2RASP",
        "outputId": "ab187b10-cc80-4220-8d2d-e16a8e6def8d"
      },
      "execution_count": null,
      "outputs": [
        {
          "output_type": "stream",
          "name": "stdout",
          "text": [
            "scaled_q_k_transpose_softmax =  [[0.19507172 0.17520753 0.34618382 0.28353693]\n",
            " [0.11153153 0.0902411  0.32896371 0.46926366]\n",
            " [0.11218828 0.1781219  0.03751744 0.67217238]\n",
            " [0.29485656 0.08288382 0.44422222 0.1780374 ]]\n"
          ]
        }
      ]
    },
    {
      "cell_type": "markdown",
      "source": [
        "We can term the above matrix as the ATTENTION Matrix"
      ],
      "metadata": {
        "id": "_kyANNDRTAHA"
      }
    },
    {
      "cell_type": "code",
      "source": [
        "attention = scaled_q_k_transpose_softmax\n",
        "print(\"attention = \\n\", attention)"
      ],
      "metadata": {
        "colab": {
          "base_uri": "https://localhost:8080/"
        },
        "id": "8nS4nFyCTKDn",
        "outputId": "3e699403-3308-4099-b10d-61c5982eeb31"
      },
      "execution_count": null,
      "outputs": [
        {
          "output_type": "stream",
          "name": "stdout",
          "text": [
            "attention = \n",
            " [[0.19507172 0.17520753 0.34618382 0.28353693]\n",
            " [0.11153153 0.0902411  0.32896371 0.46926366]\n",
            " [0.11218828 0.1781219  0.03751744 0.67217238]\n",
            " [0.29485656 0.08288382 0.44422222 0.1780374 ]]\n"
          ]
        }
      ]
    },
    {
      "cell_type": "markdown",
      "source": [
        "We multiply the attention matrix and value matrix, we get a new set of vectors - these are the evctors transformed from the original input embeddings into high quality vectors which capture the contextual meaning of the sentence"
      ],
      "metadata": {
        "id": "h9Ju8YSOTOp4"
      }
    },
    {
      "cell_type": "code",
      "source": [
        "transformed_embeddings = np.matmul(attention, v)\n",
        "print(\"transformed_embeddings =\\n\", transformed_embeddings)"
      ],
      "metadata": {
        "colab": {
          "base_uri": "https://localhost:8080/"
        },
        "id": "zh7i55q-TqPd",
        "outputId": "6c68bcfe-f114-4881-e63d-4d740c0b2f96"
      },
      "execution_count": null,
      "outputs": [
        {
          "output_type": "stream",
          "name": "stdout",
          "text": [
            "transformed_embeddings =\n",
            " [[ 0.0088405   1.02169663  0.74979171  0.49875969  0.70364538  0.08967082\n",
            "   0.77847493  0.99938324]\n",
            " [-0.00414642  1.01093069  0.41005055  0.31319167  0.74382535  0.04387274\n",
            "   0.91568776  1.29160399]\n",
            " [ 0.1586783   0.69935239  0.08241804  0.19392119  0.84981447 -0.00569584\n",
            "   1.11283618  1.70977681]\n",
            " [-0.15713904  1.0405639   0.88202419  0.53425659  0.64590875  0.12988246\n",
            "   0.65064696  0.7868073 ]]\n"
          ]
        }
      ]
    }
  ]
}